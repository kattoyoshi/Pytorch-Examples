{
 "cells": [
  {
   "cell_type": "markdown",
   "metadata": {},
   "source": [
    "# Basic Operation of Pytorch\n",
    "---\n",
    "In this notebook, I describe:\n",
    "- Scolar, Vector and Tensor in pytorch.\n",
    "- Some tensor operations.\n",
    "- The relationship between torch tensor and numpy array."
   ]
  },
  {
   "cell_type": "markdown",
   "metadata": {},
   "source": [
    "__packages:__"
   ]
  },
  {
   "cell_type": "code",
   "execution_count": 1,
   "metadata": {},
   "outputs": [],
   "source": [
    "import torch\n",
    "import numpy as np"
   ]
  },
  {
   "cell_type": "markdown",
   "metadata": {},
   "source": [
    "## 1. Scolar, Vector, Matrix and Tensor in pytorch\n",
    "---\n",
    "__important note:__ Pytorch has functions like numpy. So, we can use somothing like `pytorch.ones()`, `pytorch.zeros()`, `pytorch.rand()` and so on."
   ]
  },
  {
   "cell_type": "code",
   "execution_count": 9,
   "metadata": {},
   "outputs": [
    {
     "name": "stdout",
     "output_type": "stream",
     "text": [
      "tensor([ 1.])\n"
     ]
    }
   ],
   "source": [
    "scolar_x = torch.ones(1)\n",
    "print(scolar_x)"
   ]
  },
  {
   "cell_type": "code",
   "execution_count": 11,
   "metadata": {},
   "outputs": [
    {
     "name": "stdout",
     "output_type": "stream",
     "text": [
      "tensor([ 1.,  1.])\n"
     ]
    }
   ],
   "source": [
    "vector_x = torch.ones(2,)\n",
    "print(vector_x)"
   ]
  },
  {
   "cell_type": "code",
   "execution_count": 12,
   "metadata": {},
   "outputs": [
    {
     "name": "stdout",
     "output_type": "stream",
     "text": [
      "tensor([[ 0.6514,  0.8651,  0.2856,  0.6120],\n",
      "        [ 0.6548,  0.2677,  0.6216,  0.1295],\n",
      "        [ 0.9930,  0.6715,  0.1256,  0.1850]])\n"
     ]
    }
   ],
   "source": [
    "matrix_x = torch.rand(3,4)\n",
    "print(matrix_x)"
   ]
  },
  {
   "cell_type": "code",
   "execution_count": 13,
   "metadata": {},
   "outputs": [
    {
     "name": "stdout",
     "output_type": "stream",
     "text": [
      "tensor([[[ 0.6815,  0.0595],\n",
      "         [ 0.8076,  0.0814],\n",
      "         [ 0.7369,  0.6584],\n",
      "         [ 0.2494,  0.7224]],\n",
      "\n",
      "        [[ 0.8944,  0.1219],\n",
      "         [ 0.8157,  0.6936],\n",
      "         [ 0.5466,  0.5977],\n",
      "         [ 0.6641,  0.6475]],\n",
      "\n",
      "        [[ 0.2605,  0.5908],\n",
      "         [ 0.7283,  0.5742],\n",
      "         [ 0.9845,  0.2861],\n",
      "         [ 0.5951,  0.9986]]])\n"
     ]
    }
   ],
   "source": [
    "# 3D tensor\n",
    "tensor_x = torch.rand(3,4,2)\n",
    "print(tensor_x)"
   ]
  },
  {
   "cell_type": "markdown",
   "metadata": {},
   "source": [
    "- We can use `size()` operation or `shape` property to get the tensor size."
   ]
  },
  {
   "cell_type": "code",
   "execution_count": 20,
   "metadata": {},
   "outputs": [
    {
     "data": {
      "text/plain": [
       "torch.Size([3, 4, 2])"
      ]
     },
     "execution_count": 20,
     "metadata": {},
     "output_type": "execute_result"
    }
   ],
   "source": [
    "tensor_x.size()"
   ]
  },
  {
   "cell_type": "code",
   "execution_count": 21,
   "metadata": {},
   "outputs": [
    {
     "data": {
      "text/plain": [
       "torch.Size([3, 4, 2])"
      ]
     },
     "execution_count": 21,
     "metadata": {},
     "output_type": "execute_result"
    }
   ],
   "source": [
    "tensor_x.shape"
   ]
  },
  {
   "cell_type": "markdown",
   "metadata": {},
   "source": [
    "- We can use indexing like numpy."
   ]
  },
  {
   "cell_type": "code",
   "execution_count": 23,
   "metadata": {},
   "outputs": [
    {
     "name": "stdout",
     "output_type": "stream",
     "text": [
      "tensor([[ 0.6815,  0.0595],\n",
      "        [ 0.8076,  0.0814],\n",
      "        [ 0.7369,  0.6584],\n",
      "        [ 0.2494,  0.7224]])\n"
     ]
    }
   ],
   "source": [
    "print(tensor_x[0,:,:])"
   ]
  },
  {
   "cell_type": "markdown",
   "metadata": {},
   "source": [
    "- We can reshape tensors by using `view()` command or `reshape()` command."
   ]
  },
  {
   "cell_type": "code",
   "execution_count": 33,
   "metadata": {},
   "outputs": [
    {
     "data": {
      "text/plain": [
       "tensor([[ 0.6514,  0.8651,  0.2856],\n",
       "        [ 0.6120,  0.6548,  0.2677],\n",
       "        [ 0.6216,  0.1295,  0.9930],\n",
       "        [ 0.6715,  0.1256,  0.1850]])"
      ]
     },
     "execution_count": 33,
     "metadata": {},
     "output_type": "execute_result"
    }
   ],
   "source": [
    "matrix_x.reshape(4,3)"
   ]
  },
  {
   "cell_type": "code",
   "execution_count": 34,
   "metadata": {},
   "outputs": [
    {
     "data": {
      "text/plain": [
       "tensor([[ 0.6514,  0.8651,  0.2856],\n",
       "        [ 0.6120,  0.6548,  0.2677],\n",
       "        [ 0.6216,  0.1295,  0.9930],\n",
       "        [ 0.6715,  0.1256,  0.1850]])"
      ]
     },
     "execution_count": 34,
     "metadata": {},
     "output_type": "execute_result"
    }
   ],
   "source": [
    "matrix_x.view(4,3)"
   ]
  },
  {
   "cell_type": "markdown",
   "metadata": {},
   "source": [
    "## 2. Some tensor operations\n",
    "---\n",
    "\n",
    "### Four arithmetic operations\n",
    "We can handle arithmetric operations like normal data."
   ]
  },
  {
   "cell_type": "code",
   "execution_count": 24,
   "metadata": {},
   "outputs": [
    {
     "name": "stdout",
     "output_type": "stream",
     "text": [
      "tensor([[ 0.5693,  0.9740,  0.8812],\n",
      "        [ 0.6047,  0.7849,  0.5720],\n",
      "        [ 0.9292,  0.2655,  0.7267],\n",
      "        [ 0.8194,  0.5464,  0.3682],\n",
      "        [ 0.5229,  0.5175,  0.8321]])\n",
      "tensor([[ 0.7231,  0.1455,  0.1133],\n",
      "        [ 0.9631,  0.6696,  0.0525],\n",
      "        [ 0.0302,  0.3690,  0.9634],\n",
      "        [ 0.5463,  0.7900,  0.5159],\n",
      "        [ 0.8392,  0.2462,  0.9582]])\n"
     ]
    }
   ],
   "source": [
    "a = torch.rand(5,3)\n",
    "b = torch.rand(5,3)\n",
    "print(a)\n",
    "print(b)"
   ]
  },
  {
   "cell_type": "code",
   "execution_count": 27,
   "metadata": {},
   "outputs": [
    {
     "data": {
      "text/plain": [
       "tensor([[ 1.2924,  1.1194,  0.9945],\n",
       "        [ 1.5678,  1.4545,  0.6245],\n",
       "        [ 0.9594,  0.6345,  1.6901],\n",
       "        [ 1.3657,  1.3364,  0.8841],\n",
       "        [ 1.3622,  0.7636,  1.7903]])"
      ]
     },
     "execution_count": 27,
     "metadata": {},
     "output_type": "execute_result"
    }
   ],
   "source": [
    "# add (element wise)\n",
    "a + b"
   ]
  },
  {
   "cell_type": "code",
   "execution_count": 30,
   "metadata": {},
   "outputs": [
    {
     "data": {
      "text/plain": [
       "tensor([[-0.1538,  0.8285,  0.7678],\n",
       "        [-0.3584,  0.1153,  0.5196],\n",
       "        [ 0.8989, -0.1035, -0.2366],\n",
       "        [ 0.2732, -0.2436, -0.1477],\n",
       "        [-0.3163,  0.2713, -0.1261]])"
      ]
     },
     "execution_count": 30,
     "metadata": {},
     "output_type": "execute_result"
    }
   ],
   "source": [
    "# subtract (element wise)\n",
    "a - b"
   ]
  },
  {
   "cell_type": "code",
   "execution_count": 31,
   "metadata": {},
   "outputs": [
    {
     "data": {
      "text/plain": [
       "tensor([[ 0.4116,  0.1417,  0.0999],\n",
       "        [ 0.5824,  0.5256,  0.0300],\n",
       "        [ 0.0281,  0.0980,  0.7001],\n",
       "        [ 0.4477,  0.4317,  0.1899],\n",
       "        [ 0.4389,  0.1274,  0.7973]])"
      ]
     },
     "execution_count": 31,
     "metadata": {},
     "output_type": "execute_result"
    }
   ],
   "source": [
    "# multiply (element wise)\n",
    "a * b"
   ]
  },
  {
   "cell_type": "code",
   "execution_count": 32,
   "metadata": {},
   "outputs": [
    {
     "data": {
      "text/plain": [
       "tensor([[  0.7873,   6.6951,   7.7743],\n",
       "        [  0.6279,   1.1722,  10.9001],\n",
       "        [ 30.7359,   0.7195,   0.7544],\n",
       "        [  1.5000,   0.6917,   0.7136],\n",
       "        [  0.6231,   2.1021,   0.8684]])"
      ]
     },
     "execution_count": 32,
     "metadata": {},
     "output_type": "execute_result"
    }
   ],
   "source": [
    "# divide (element wise)\n",
    "a / b"
   ]
  },
  {
   "cell_type": "markdown",
   "metadata": {},
   "source": [
    "## Matrix multiplication\n",
    "`torch.mm()` or `torch.matmul()`"
   ]
  },
  {
   "cell_type": "code",
   "execution_count": 40,
   "metadata": {},
   "outputs": [
    {
     "name": "stdout",
     "output_type": "stream",
     "text": [
      "tensor([[ 0.8567,  0.6537,  0.4291],\n",
      "        [ 0.8942,  0.8587,  0.3782],\n",
      "        [ 0.4116,  0.0278,  0.0366],\n",
      "        [ 0.6650,  0.2999,  0.6291],\n",
      "        [ 0.5575,  0.3548,  0.4764]])\n",
      "tensor([[ 0.2050,  0.8396,  0.5733,  0.2758,  1.0000],\n",
      "        [ 0.8039,  0.6389,  0.6480,  0.1219,  0.2250],\n",
      "        [ 0.5260,  0.3190,  0.4875,  0.7807,  0.6697]])\n"
     ]
    }
   ],
   "source": [
    "a = torch.rand(5,3)\n",
    "b = torch.rand(3,5)\n",
    "print(a)\n",
    "print(b)"
   ]
  },
  {
   "cell_type": "code",
   "execution_count": 42,
   "metadata": {},
   "outputs": [
    {
     "data": {
      "text/plain": [
       "tensor([[ 0.9268,  1.2737,  1.1238,  0.6509,  1.2911],\n",
       "        [ 1.0726,  1.4200,  1.2534,  0.6465,  1.3407],\n",
       "        [ 0.1260,  0.3750,  0.2718,  0.1455,  0.4423],\n",
       "        [ 0.7084,  0.9507,  0.8823,  0.7111,  1.1538],\n",
       "        [ 0.6501,  0.8468,  0.7818,  0.5689,  0.9564]])"
      ]
     },
     "execution_count": 42,
     "metadata": {},
     "output_type": "execute_result"
    }
   ],
   "source": [
    "torch.mm(a, b)"
   ]
  },
  {
   "cell_type": "code",
   "execution_count": 43,
   "metadata": {},
   "outputs": [
    {
     "data": {
      "text/plain": [
       "tensor([[ 0.9268,  1.2737,  1.1238,  0.6509,  1.2911],\n",
       "        [ 1.0726,  1.4200,  1.2534,  0.6465,  1.3407],\n",
       "        [ 0.1260,  0.3750,  0.2718,  0.1455,  0.4423],\n",
       "        [ 0.7084,  0.9507,  0.8823,  0.7111,  1.1538],\n",
       "        [ 0.6501,  0.8468,  0.7818,  0.5689,  0.9564]])"
      ]
     },
     "execution_count": 43,
     "metadata": {},
     "output_type": "execute_result"
    }
   ],
   "source": [
    "torch.matmul(a, b)"
   ]
  },
  {
   "cell_type": "markdown",
   "metadata": {},
   "source": [
    "## 3. The relationship between torch tensor and numpy array\n",
    "---\n",
    "Numpy to Torch: `torch.from_numpy(x)`  \n",
    "Torch to Numpy: `x.numpy()`"
   ]
  },
  {
   "cell_type": "code",
   "execution_count": 47,
   "metadata": {},
   "outputs": [],
   "source": [
    "x = np.random.rand(5,3)"
   ]
  },
  {
   "cell_type": "code",
   "execution_count": 51,
   "metadata": {},
   "outputs": [
    {
     "name": "stdout",
     "output_type": "stream",
     "text": [
      "tensor([[ 0.8718,  0.2600,  0.4604],\n",
      "        [ 0.7128,  0.2414,  0.9991],\n",
      "        [ 0.6320,  0.8895,  0.2156],\n",
      "        [ 0.4254,  0.3309,  0.9071],\n",
      "        [ 0.9793,  0.0153,  0.1147]], dtype=torch.float64)\n"
     ]
    }
   ],
   "source": [
    "torch_x = torch.from_numpy(x)\n",
    "print(torch_x)"
   ]
  },
  {
   "cell_type": "code",
   "execution_count": 53,
   "metadata": {},
   "outputs": [
    {
     "data": {
      "text/plain": [
       "array([[0.8717906 , 0.2599683 , 0.46035623],\n",
       "       [0.71283883, 0.24142724, 0.99907823],\n",
       "       [0.63204577, 0.88953455, 0.21556485],\n",
       "       [0.42539633, 0.33092397, 0.90708331],\n",
       "       [0.97926288, 0.01534905, 0.11466544]])"
      ]
     },
     "execution_count": 53,
     "metadata": {},
     "output_type": "execute_result"
    }
   ],
   "source": [
    "torch_x.numpy()"
   ]
  }
 ],
 "metadata": {
  "kernelspec": {
   "display_name": "env.pytorch",
   "language": "python",
   "name": "pytorch"
  },
  "language_info": {
   "codemirror_mode": {
    "name": "ipython",
    "version": 3
   },
   "file_extension": ".py",
   "mimetype": "text/x-python",
   "name": "python",
   "nbconvert_exporter": "python",
   "pygments_lexer": "ipython3",
   "version": "3.6.5"
  }
 },
 "nbformat": 4,
 "nbformat_minor": 2
}
